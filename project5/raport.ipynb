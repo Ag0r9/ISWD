{
 "cells": [
  {
   "cell_type": "markdown",
   "source": [
    "# Projekt ELECTRE III + PROMETHEE\n",
    "Adam Gorgoń 145278\n",
    "Jan Kabziński 145220"
   ],
   "metadata": {
    "collapsed": false
   }
  },
  {
   "cell_type": "markdown",
   "source": [
    "## Biblioteki"
   ],
   "metadata": {
    "collapsed": false
   }
  },
  {
   "cell_type": "code",
   "execution_count": 1,
   "outputs": [],
   "source": [
    "import pandas as pd"
   ],
   "metadata": {
    "collapsed": false
   }
  },
  {
   "cell_type": "markdown",
   "source": [
    "## Pobranie danych"
   ],
   "metadata": {
    "collapsed": false
   }
  },
  {
   "cell_type": "code",
   "execution_count": 2,
   "metadata": {
    "collapsed": true
   },
   "outputs": [],
   "source": [
    "data = pd.read_csv(\"ISWD - Arkusz1.csv\", index_col=\"Nazwa\")"
   ]
  },
  {
   "cell_type": "code",
   "execution_count": 3,
   "outputs": [
    {
     "data": {
      "text/plain": "                                     Przekątna  RAM  Pamięć   \nNazwa                                                         \nApple iPhone 14 Pro 1TB                    6,1    6    1000  \\\nSamsung Galaxy S23 Ultra 12/1TB            6,8   12    1000   \nApple iPhone 14 Pro 256GB                  6,1    6     256   \nApple iPhone 14 Plus 512GB                 6,7    6     512   \nASUS ROG Phone 7 Ultimate 16/512GB        6,78   16     512   \nSony Xperia 1 V 12/256GB OLED 120Hz        6,5   12     256   \nApple iPhone 14 512GB                      6,1    6     512   \nHuawei Mate 50 Pro 8/512GB                6,74    8     512   \nSamsung Galaxy S23+ 8/512GB                6,6    8     512   \nApple iPhone 13 512GB                      6,1    4     512   \nNubia Redmagic 8 Pro 5G 16/512GB           6,8   16     512   \nApple iPhone 13 Mini 512GB                 5,4    4     512   \nSony Xperia 5 IV                           6,1    8     128   \n\n                                      Częstotliwość [Hz]   \nNazwa                                                      \nApple iPhone 14 Pro 1TB                              120  \\\nSamsung Galaxy S23 Ultra 12/1TB                      120   \nApple iPhone 14 Pro 256GB                            120   \nApple iPhone 14 Plus 512GB                            60   \nASUS ROG Phone 7 Ultimate 16/512GB                   165   \nSony Xperia 1 V 12/256GB OLED 120Hz                  120   \nApple iPhone 14 512GB                                 60   \nHuawei Mate 50 Pro 8/512GB                           120   \nSamsung Galaxy S23+ 8/512GB                          120   \nApple iPhone 13 512GB                                 60   \nNubia Redmagic 8 Pro 5G 16/512GB                     120   \nApple iPhone 13 Mini 512GB                            60   \nSony Xperia 5 IV                                     120   \n\n                                      Rozdzielczość głównego tylnego aparatu [Mpix]   \nNazwa                                                                                 \nApple iPhone 14 Pro 1TB                                                          48  \\\nSamsung Galaxy S23 Ultra 12/1TB                                                 200   \nApple iPhone 14 Pro 256GB                                                        48   \nApple iPhone 14 Plus 512GB                                                       12   \nASUS ROG Phone 7 Ultimate 16/512GB                                               13   \nSony Xperia 1 V 12/256GB OLED 120Hz                                              48   \nApple iPhone 14 512GB                                                            12   \nHuawei Mate 50 Pro 8/512GB                                                       50   \nSamsung Galaxy S23+ 8/512GB                                                      50   \nApple iPhone 13 512GB                                                            12   \nNubia Redmagic 8 Pro 5G 16/512GB                                                 50   \nApple iPhone 13 Mini 512GB                                                       12   \nSony Xperia 5 IV                                                                 12   \n\n                                      Cena  \nNazwa                                       \nApple iPhone 14 Pro 1TB               8499  \nSamsung Galaxy S23 Ultra 12/1TB       8699  \nApple iPhone 14 Pro 256GB             6949  \nApple iPhone 14 Plus 512GB            6899  \nASUS ROG Phone 7 Ultimate 16/512GB    6799  \nSony Xperia 1 V 12/256GB OLED 120Hz   6499  \nApple iPhone 14 512GB                 6499  \nHuawei Mate 50 Pro 8/512GB            6499  \nSamsung Galaxy S23+ 8/512GB           5799  \nApple iPhone 13 512GB                 5699  \nNubia Redmagic 8 Pro 5G 16/512GB      5299  \nApple iPhone 13 Mini 512GB            4999  \nSony Xperia 5 IV                      4899  ",
      "text/html": "<div>\n<style scoped>\n    .dataframe tbody tr th:only-of-type {\n        vertical-align: middle;\n    }\n\n    .dataframe tbody tr th {\n        vertical-align: top;\n    }\n\n    .dataframe thead th {\n        text-align: right;\n    }\n</style>\n<table border=\"1\" class=\"dataframe\">\n  <thead>\n    <tr style=\"text-align: right;\">\n      <th></th>\n      <th>Przekątna</th>\n      <th>RAM</th>\n      <th>Pamięć</th>\n      <th>Częstotliwość [Hz]</th>\n      <th>Rozdzielczość głównego tylnego aparatu [Mpix]</th>\n      <th>Cena</th>\n    </tr>\n    <tr>\n      <th>Nazwa</th>\n      <th></th>\n      <th></th>\n      <th></th>\n      <th></th>\n      <th></th>\n      <th></th>\n    </tr>\n  </thead>\n  <tbody>\n    <tr>\n      <th>Apple iPhone 14 Pro 1TB</th>\n      <td>6,1</td>\n      <td>6</td>\n      <td>1000</td>\n      <td>120</td>\n      <td>48</td>\n      <td>8499</td>\n    </tr>\n    <tr>\n      <th>Samsung Galaxy S23 Ultra 12/1TB</th>\n      <td>6,8</td>\n      <td>12</td>\n      <td>1000</td>\n      <td>120</td>\n      <td>200</td>\n      <td>8699</td>\n    </tr>\n    <tr>\n      <th>Apple iPhone 14 Pro 256GB</th>\n      <td>6,1</td>\n      <td>6</td>\n      <td>256</td>\n      <td>120</td>\n      <td>48</td>\n      <td>6949</td>\n    </tr>\n    <tr>\n      <th>Apple iPhone 14 Plus 512GB</th>\n      <td>6,7</td>\n      <td>6</td>\n      <td>512</td>\n      <td>60</td>\n      <td>12</td>\n      <td>6899</td>\n    </tr>\n    <tr>\n      <th>ASUS ROG Phone 7 Ultimate 16/512GB</th>\n      <td>6,78</td>\n      <td>16</td>\n      <td>512</td>\n      <td>165</td>\n      <td>13</td>\n      <td>6799</td>\n    </tr>\n    <tr>\n      <th>Sony Xperia 1 V 12/256GB OLED 120Hz</th>\n      <td>6,5</td>\n      <td>12</td>\n      <td>256</td>\n      <td>120</td>\n      <td>48</td>\n      <td>6499</td>\n    </tr>\n    <tr>\n      <th>Apple iPhone 14 512GB</th>\n      <td>6,1</td>\n      <td>6</td>\n      <td>512</td>\n      <td>60</td>\n      <td>12</td>\n      <td>6499</td>\n    </tr>\n    <tr>\n      <th>Huawei Mate 50 Pro 8/512GB</th>\n      <td>6,74</td>\n      <td>8</td>\n      <td>512</td>\n      <td>120</td>\n      <td>50</td>\n      <td>6499</td>\n    </tr>\n    <tr>\n      <th>Samsung Galaxy S23+ 8/512GB</th>\n      <td>6,6</td>\n      <td>8</td>\n      <td>512</td>\n      <td>120</td>\n      <td>50</td>\n      <td>5799</td>\n    </tr>\n    <tr>\n      <th>Apple iPhone 13 512GB</th>\n      <td>6,1</td>\n      <td>4</td>\n      <td>512</td>\n      <td>60</td>\n      <td>12</td>\n      <td>5699</td>\n    </tr>\n    <tr>\n      <th>Nubia Redmagic 8 Pro 5G 16/512GB</th>\n      <td>6,8</td>\n      <td>16</td>\n      <td>512</td>\n      <td>120</td>\n      <td>50</td>\n      <td>5299</td>\n    </tr>\n    <tr>\n      <th>Apple iPhone 13 Mini 512GB</th>\n      <td>5,4</td>\n      <td>4</td>\n      <td>512</td>\n      <td>60</td>\n      <td>12</td>\n      <td>4999</td>\n    </tr>\n    <tr>\n      <th>Sony Xperia 5 IV</th>\n      <td>6,1</td>\n      <td>8</td>\n      <td>128</td>\n      <td>120</td>\n      <td>12</td>\n      <td>4899</td>\n    </tr>\n  </tbody>\n</table>\n</div>"
     },
     "execution_count": 3,
     "metadata": {},
     "output_type": "execute_result"
    }
   ],
   "source": [
    "data"
   ],
   "metadata": {
    "collapsed": false
   }
  },
  {
   "cell_type": "code",
   "execution_count": 4,
   "outputs": [
    {
     "data": {
      "text/plain": "Przekątna                                        object\nRAM                                               int64\nPamięć                                            int64\nCzęstotliwość [Hz]                                int64\nRozdzielczość głównego tylnego aparatu [Mpix]     int64\nCena                                              int64\ndtype: object"
     },
     "execution_count": 4,
     "metadata": {},
     "output_type": "execute_result"
    }
   ],
   "source": [
    "data.dtypes"
   ],
   "metadata": {
    "collapsed": false
   }
  },
  {
   "cell_type": "code",
   "execution_count": 5,
   "outputs": [],
   "source": [
    "data[\"Przekątna\"] = data[\"Przekątna\"].str.replace(',', '.').astype(float)"
   ],
   "metadata": {
    "collapsed": false
   }
  },
  {
   "cell_type": "markdown",
   "source": [
    "## Informacje o zbiorze danych"
   ],
   "metadata": {
    "collapsed": false
   }
  },
  {
   "cell_type": "markdown",
   "source": [
    "1. Jaka jest domena problemu?\n",
    "Analiza najnowszych telefonów.\n",
    "2. Jakie jest źródło danych?\n",
    "Ceny telefonów z sklepu internetowego x-kom z czerwca 2023 roku. Dane zostały zebrane przeze mnie.\n",
    "3. Jaki jest punkt widzenia decydenta?\n",
    "Pomoc w wyborze najbardziej opłacalnego telefonu z najwyższej półki cenowej.\n",
    "4. Jaka jest liczba rozważanych wariantów? Czy w oryginalnym zbiorze danych było ich więcej?\n",
    "Jest rozważane 13 wariantów. Sam tworzyłem zbiór więc nie było więcej. W źródle, czyli w sklepie internetowym, można znaleźć wiele więcej wariantów."
   ],
   "metadata": {
    "collapsed": false
   }
  },
  {
   "cell_type": "code",
   "execution_count": 6,
   "outputs": [
    {
     "data": {
      "text/plain": "13"
     },
     "execution_count": 6,
     "metadata": {},
     "output_type": "execute_result"
    }
   ],
   "source": [
    "warianty = data.index.tolist()\n",
    "len(warianty)"
   ],
   "metadata": {
    "collapsed": false
   }
  },
  {
   "cell_type": "markdown",
   "source": [
    "5. Opisz jeden z rozważanych wariantów - jak jest oceniony na poszczególnych kryteriach, jak dobry jest\n",
    "na tle innych.\n",
    "Samsung Galaxy S23 Ultra 12/1TB. Jest to telefon z największą przekątną, pamięcią oraz rozdzielczość głównego tylnego aparatu. Ma również największą cene ze wszystkich."
   ],
   "metadata": {
    "collapsed": false
   }
  },
  {
   "cell_type": "code",
   "execution_count": 7,
   "outputs": [
    {
     "data": {
      "text/plain": "Przekątna                                           6.8\nRAM                                                12.0\nPamięć                                           1000.0\nCzęstotliwość [Hz]                                120.0\nRozdzielczość głównego tylnego aparatu [Mpix]     200.0\nCena                                             8699.0\nName: Samsung Galaxy S23 Ultra 12/1TB, dtype: float64"
     },
     "execution_count": 7,
     "metadata": {},
     "output_type": "execute_result"
    }
   ],
   "source": [
    "data.loc[\"Samsung Galaxy S23 Ultra 12/1TB\"]"
   ],
   "metadata": {
    "collapsed": false
   }
  },
  {
   "cell_type": "markdown",
   "source": [
    "6. Ile rozwazasz kryteriów? Czy było ich więcej w oryginalnym zbiorze danych?\n",
    "Rozważamy 6 kryteriów. Początkowo chcieliśmy dodać pojemność baterii i rozdzielczość trzech aparatów ale nie każdy wariant miał informacje związane z nimi. Były też informacje o wymiarach telefonu, które uznaliśmy za bezużyteczne.\n",
    "7. Jakie są typy poszczególnych kryteriów? Scharakteryzuj je pod kątem:\n",
    "* przekątna - ciągła, zysk, [5.4, 6.8]\n",
    "* RAM - dystkretna, zysk, [4, 16]\n",
    "* pamięć - dyskretna, zysk [128, 1000]\n",
    "* częstotliwość - ciągła, zysk [60, 165]\n",
    "* rozdzielczość głównego tylnego aparatu - ciągła, zysk [12, 200]\n",
    "* cena - ciągła, koszt, [4899, 8699]"
   ],
   "metadata": {
    "collapsed": false
   }
  },
  {
   "cell_type": "code",
   "execution_count": 8,
   "outputs": [
    {
     "data": {
      "text/plain": "['Przekątna',\n 'RAM',\n 'Pamięć',\n 'Częstotliwość [Hz]',\n 'Rozdzielczość głównego tylnego aparatu [Mpix]',\n 'Cena']"
     },
     "execution_count": 8,
     "metadata": {},
     "output_type": "execute_result"
    }
   ],
   "source": [
    "kryteria = data.columns.tolist()\n",
    "kryteria"
   ],
   "metadata": {
    "collapsed": false
   }
  },
  {
   "cell_type": "code",
   "execution_count": 9,
   "outputs": [
    {
     "data": {
      "text/plain": "                                                  min     max\nPrzekątna                                         5.4     6.8\nRAM                                               4.0    16.0\nPamięć                                          128.0  1000.0\nCzęstotliwość [Hz]                               60.0   165.0\nRozdzielczość głównego tylnego aparatu [Mpix]    12.0   200.0\nCena                                           4899.0  8699.0",
      "text/html": "<div>\n<style scoped>\n    .dataframe tbody tr th:only-of-type {\n        vertical-align: middle;\n    }\n\n    .dataframe tbody tr th {\n        vertical-align: top;\n    }\n\n    .dataframe thead th {\n        text-align: right;\n    }\n</style>\n<table border=\"1\" class=\"dataframe\">\n  <thead>\n    <tr style=\"text-align: right;\">\n      <th></th>\n      <th>min</th>\n      <th>max</th>\n    </tr>\n  </thead>\n  <tbody>\n    <tr>\n      <th>Przekątna</th>\n      <td>5.4</td>\n      <td>6.8</td>\n    </tr>\n    <tr>\n      <th>RAM</th>\n      <td>4.0</td>\n      <td>16.0</td>\n    </tr>\n    <tr>\n      <th>Pamięć</th>\n      <td>128.0</td>\n      <td>1000.0</td>\n    </tr>\n    <tr>\n      <th>Częstotliwość [Hz]</th>\n      <td>60.0</td>\n      <td>165.0</td>\n    </tr>\n    <tr>\n      <th>Rozdzielczość głównego tylnego aparatu [Mpix]</th>\n      <td>12.0</td>\n      <td>200.0</td>\n    </tr>\n    <tr>\n      <th>Cena</th>\n      <td>4899.0</td>\n      <td>8699.0</td>\n    </tr>\n  </tbody>\n</table>\n</div>"
     },
     "execution_count": 9,
     "metadata": {},
     "output_type": "execute_result"
    }
   ],
   "source": [
    "skale = pd.merge(data.min().rename('min'), data.max().rename(\"max\"), left_index=True, right_index=True).loc[kryteria]\n",
    "skale"
   ],
   "metadata": {
    "collapsed": false
   }
  },
  {
   "cell_type": "code",
   "execution_count": 10,
   "outputs": [
    {
     "data": {
      "text/plain": "{'Przekątna': 'koszt',\n 'RAM': 'koszt',\n 'Pamięć': 'koszt',\n 'Częstotliwość [Hz]': 'koszt',\n 'Rozdzielczość głównego tylnego aparatu [Mpix]': 'koszt',\n 'Cena': 'zysk'}"
     },
     "execution_count": 10,
     "metadata": {},
     "output_type": "execute_result"
    }
   ],
   "source": [
    "typy = {kryterium: typ for kryterium, typ in zip(kryteria, [\"koszt\"] * 5 + [\"zysk\"])}\n",
    "typy"
   ],
   "metadata": {
    "collapsed": false
   }
  },
  {
   "cell_type": "markdown",
   "source": [
    "8. Jakie są wagi poszczególnych kryteriów?\n",
    "* przekątna - 7\n",
    "* RAM - 6\n",
    "* pamięć - 8\n",
    "* częstotliwość - 3\n",
    "* rozdzielczość głównego tylnego aparatu - 3\n",
    "* cena - 10"
   ],
   "metadata": {
    "collapsed": false
   }
  },
  {
   "cell_type": "code",
   "execution_count": 11,
   "outputs": [
    {
     "data": {
      "text/plain": "{'Przekątna': 7,\n 'RAM': 6,\n 'Pamięć': 8,\n 'Częstotliwość [Hz]': 3,\n 'Rozdzielczość głównego tylnego aparatu [Mpix]': 3,\n 'Cena': 10}"
     },
     "execution_count": 11,
     "metadata": {},
     "output_type": "execute_result"
    }
   ],
   "source": [
    "wagi = {kryterium: waga for kryterium, waga in zip(kryteria, (7, 6, 8, 3, 3, 10))}\n",
    "wagi"
   ],
   "metadata": {
    "collapsed": false
   }
  },
  {
   "cell_type": "markdown",
   "source": [
    "9. Czy istnieją jakieś dominacje w zbiorze wariantów? Jeśli tak, podaj je.\n",
    "Istnieją dominacje.\n",
    "* Nubia Redmagic 8 Pro 5G 16/512GB dominuje: Apple iPhone 13 512GB, Samsung Galaxy S23+ 8/512GB, Sony Xperia 1 V 12/256GB OLED 120Hz, Apple iPhone 14 512GB, Huawei Mate 50 Pro 8/512GB, ASUS ROG Phone 7 Ultimate 16/512GB, Apple iPhone 14 Plus 512GB, Apple iPhone 14 Pro 256GB.\n",
    "* Huawei Mate 50 Pro 8/512GB dominuje Apple iPhone 14 512GB.\n",
    "* ASUS ROG Phone 7 Ultimate 16/512GB dominuje Apple iPhone 14 Plus 512GB.\n",
    "10. Jak teoretycznie powinien prezentować się najlepszy wariant w Twoim zbiorze danych?\n",
    "Najlepszy wariant powinien mieć dużą przekątną i pamięć z racjonalną ceną.\n",
    "11. Spośród rozważanych wariantów, który wydaje się być najlepszy/lepszy od innych i dlaczego?\n",
    "Nubia Redmagic 8 Pro 5G 16/512GB. Na oko wydaje się, że ma najlepsze kryteria i dominuje wiele innych wariantów.\n",
    "12. Sposród rozważanych wariantów, który wydaje się być najsłabszy/ znacząco słabszy od innych i dlaczego?\n",
    "Apple iPhone 14 Pro 1TB. Ma dużo gorsze kryteria od Samsung Galaxy S23 Ultra 12/1TB, a jest tylko 200 złotych tańszy."
   ],
   "metadata": {
    "collapsed": false
   }
  },
  {
   "cell_type": "markdown",
   "source": [
    "## Analiza problemu z wykorzystaniem ELECTRE III"
   ],
   "metadata": {
    "collapsed": false
   }
  },
  {
   "cell_type": "markdown",
   "source": [
    "### Informacje preferencyjne podane na wejście metody."
   ],
   "metadata": {
    "collapsed": false
   }
  },
  {
   "cell_type": "code",
   "execution_count": 12,
   "outputs": [],
   "source": [
    "qs = {kryterium: q for kryterium, q in zip(kryteria, (0.1, 2, 200, 50, 5, 200))}\n",
    "ps = {kryterium: p for kryterium, p in zip(kryteria, (0.3, 4, 250, 70, 20, 1000))}\n",
    "vs = {kryterium: v for kryterium, v in zip(kryteria, (1, 10, 500, 100, 100, 2000))}"
   ],
   "metadata": {
    "collapsed": false
   }
  },
  {
   "cell_type": "markdown",
   "source": [
    "### Obliczanie globalnego współczynnika zgodności"
   ],
   "metadata": {
    "collapsed": false
   }
  },
  {
   "cell_type": "code",
   "execution_count": 13,
   "outputs": [],
   "source": [
    "zgodnosci = {}\n",
    "for kryterium in kryteria:\n",
    "    zgodnosc = []\n",
    "    for wariant1 in warianty:\n",
    "        wiersz = []\n",
    "        for wariant2 in warianty:\n",
    "            a_value = data.loc[wariant1, kryterium]\n",
    "            b_value = data.loc[wariant2, kryterium]\n",
    "            q = qs.get(kryterium)\n",
    "            p = ps.get(kryterium)\n",
    "            v = vs.get(kryterium)\n",
    "            if typy.get(kryterium) == \"zysk\":\n",
    "                if a_value - b_value <= q:\n",
    "                    wiersz.append(1.0)\n",
    "                elif a_value - b_value > p:\n",
    "                    wiersz.append(0.0)\n",
    "                else:\n",
    "                    wiersz.append((b_value - a_value + p) / (p - q))\n",
    "            else:\n",
    "                if b_value - a_value <= q:\n",
    "                    wiersz.append(1.0)\n",
    "                elif b_value - a_value > p:\n",
    "                    wiersz.append(0.0)\n",
    "                else:\n",
    "                    wiersz.append((p - (b_value - a_value)) / (p - q))\n",
    "        zgodnosc.append(wiersz)\n",
    "    zgodnosci[kryterium] = pd.DataFrame(zgodnosc, index=warianty, columns=warianty)"
   ],
   "metadata": {
    "collapsed": false
   }
  },
  {
   "cell_type": "code",
   "execution_count": 14,
   "outputs": [],
   "source": [
    "C = []\n",
    "for wariant1 in warianty:\n",
    "    wiersz = []\n",
    "    for wariant2 in warianty:\n",
    "        suma = 0\n",
    "        for kryterium in kryteria:\n",
    "            suma += wagi.get(kryterium) * zgodnosci.get(kryterium).loc[wariant1, wariant2]\n",
    "        wiersz.append(suma/sum(wagi.values()))\n",
    "    C.append(wiersz)\n",
    "C = pd.DataFrame(C, index=warianty, columns=warianty)"
   ],
   "metadata": {
    "collapsed": false
   }
  },
  {
   "cell_type": "code",
   "execution_count": 15,
   "outputs": [
    {
     "data": {
      "text/plain": "                                      Apple iPhone 14 Pro 1TB   \nApple iPhone 14 Pro 1TB                              1.000000  \\\nSamsung Galaxy S23 Ultra 12/1TB                      1.000000   \nApple iPhone 14 Pro 256GB                            0.783784   \nApple iPhone 14 Plus 512GB                           0.662162   \nASUS ROG Phone 7 Ultimate 16/512GB                   0.702703   \nSony Xperia 1 V 12/256GB OLED 120Hz                  0.783784   \nApple iPhone 14 512GB                                0.662162   \nHuawei Mate 50 Pro 8/512GB                           0.783784   \nSamsung Galaxy S23+ 8/512GB                          0.783784   \nApple iPhone 13 512GB                                0.662162   \nNubia Redmagic 8 Pro 5G 16/512GB                     0.783784   \nApple iPhone 13 Mini 512GB                           0.472973   \nSony Xperia 5 IV                                     0.702703   \n\n                                      Samsung Galaxy S23 Ultra 12/1TB   \nApple iPhone 14 Pro 1TB                                      0.567568  \\\nSamsung Galaxy S23 Ultra 12/1TB                              1.000000   \nApple iPhone 14 Pro 256GB                                    0.351351   \nApple iPhone 14 Plus 512GB                                   0.500000   \nASUS ROG Phone 7 Ultimate 16/512GB                           0.702703   \nSony Xperia 1 V 12/256GB OLED 120Hz                          0.513514   \nApple iPhone 14 512GB                                        0.310811   \nHuawei Mate 50 Pro 8/512GB                                   0.540541   \nSamsung Galaxy S23+ 8/512GB                                  0.445946   \nApple iPhone 13 512GB                                        0.310811   \nNubia Redmagic 8 Pro 5G 16/512GB                             0.702703   \nApple iPhone 13 Mini 512GB                                   0.310811   \nSony Xperia 5 IV                                             0.351351   \n\n                                      Apple iPhone 14 Pro 256GB   \nApple iPhone 14 Pro 1TB                                0.729730  \\\nSamsung Galaxy S23 Ultra 12/1TB                        0.729730   \nApple iPhone 14 Pro 256GB                              1.000000   \nApple iPhone 14 Plus 512GB                             0.878378   \nASUS ROG Phone 7 Ultimate 16/512GB                     0.918919   \nSony Xperia 1 V 12/256GB OLED 120Hz                    1.000000   \nApple iPhone 14 512GB                                  0.878378   \nHuawei Mate 50 Pro 8/512GB                             1.000000   \nSamsung Galaxy S23+ 8/512GB                            1.000000   \nApple iPhone 13 512GB                                  0.878378   \nNubia Redmagic 8 Pro 5G 16/512GB                       1.000000   \nApple iPhone 13 Mini 512GB                             0.689189   \nSony Xperia 5 IV                                       0.918919   \n\n                                      Apple iPhone 14 Plus 512GB   \nApple iPhone 14 Pro 1TB                                 0.540541  \\\nSamsung Galaxy S23 Ultra 12/1TB                         0.729730   \nApple iPhone 14 Pro 256GB                               0.594595   \nApple iPhone 14 Plus 512GB                              1.000000   \nASUS ROG Phone 7 Ultimate 16/512GB                      1.000000   \nSony Xperia 1 V 12/256GB OLED 120Hz                     0.689189   \nApple iPhone 14 512GB                                   0.810811   \nHuawei Mate 50 Pro 8/512GB                              1.000000   \nSamsung Galaxy S23+ 8/512GB                             1.000000   \nApple iPhone 13 512GB                                   0.810811   \nNubia Redmagic 8 Pro 5G 16/512GB                        1.000000   \nApple iPhone 13 Mini 512GB                              0.810811   \nSony Xperia 5 IV                                        0.594595   \n\n                                      ASUS ROG Phone 7 Ultimate 16/512GB   \nApple iPhone 14 Pro 1TB                                         0.378378  \\\nSamsung Galaxy S23 Ultra 12/1TB                                 0.567568   \nApple iPhone 14 Pro 256GB                                       0.432432   \nApple iPhone 14 Plus 512GB                                      0.756757   \nASUS ROG Phone 7 Ultimate 16/512GB                              1.000000   \nSony Xperia 1 V 12/256GB OLED 120Hz                             0.451351   \nApple iPhone 14 512GB                                           0.567568   \nHuawei Mate 50 Pro 8/512GB                                      0.837838   \nSamsung Galaxy S23+ 8/512GB                                     0.762162   \nApple iPhone 13 512GB                                           0.567568   \nNubia Redmagic 8 Pro 5G 16/512GB                                1.000000   \nApple iPhone 13 Mini 512GB                                      0.567568   \nSony Xperia 5 IV                                                0.432432   \n\n                                      Sony Xperia 1 V 12/256GB OLED 120Hz    \nApple iPhone 14 Pro 1TB                                           0.378378  \\\nSamsung Galaxy S23 Ultra 12/1TB                                   0.729730   \nApple iPhone 14 Pro 256GB                                         0.564189   \nApple iPhone 14 Plus 512GB                                        0.648649   \nASUS ROG Phone 7 Ultimate 16/512GB                                0.885135   \nSony Xperia 1 V 12/256GB OLED 120Hz                               1.000000   \nApple iPhone 14 512GB                                             0.527027   \nHuawei Mate 50 Pro 8/512GB                                        0.837838   \nSamsung Galaxy S23+ 8/512GB                                       0.837838   \nApple iPhone 13 512GB                                             0.527027   \nNubia Redmagic 8 Pro 5G 16/512GB                                  1.000000   \nApple iPhone 13 Mini 512GB                                        0.527027   \nSony Xperia 5 IV                                                  0.567568   \n\n                                      Apple iPhone 14 512GB   \nApple iPhone 14 Pro 1TB                            0.729730  \\\nSamsung Galaxy S23 Ultra 12/1TB                    0.729730   \nApple iPhone 14 Pro 256GB                          0.699324   \nApple iPhone 14 Plus 512GB                         0.932432   \nASUS ROG Phone 7 Ultimate 16/512GB                 0.966216   \nSony Xperia 1 V 12/256GB OLED 120Hz                0.783784   \nApple iPhone 14 512GB                              1.000000   \nHuawei Mate 50 Pro 8/512GB                         1.000000   \nSamsung Galaxy S23+ 8/512GB                        1.000000   \nApple iPhone 13 512GB                              1.000000   \nNubia Redmagic 8 Pro 5G 16/512GB                   1.000000   \nApple iPhone 13 Mini 512GB                         0.810811   \nSony Xperia 5 IV                                   0.783784   \n\n                                      Huawei Mate 50 Pro 8/512GB   \nApple iPhone 14 Pro 1TB                                 0.540541  \\\nSamsung Galaxy S23 Ultra 12/1TB                         0.729730   \nApple iPhone 14 Pro 256GB                               0.510135   \nApple iPhone 14 Plus 512GB                              0.810811   \nASUS ROG Phone 7 Ultimate 16/512GB                      0.885135   \nSony Xperia 1 V 12/256GB OLED 120Hz                     0.651351   \nApple iPhone 14 512GB                                   0.689189   \nHuawei Mate 50 Pro 8/512GB                              1.000000   \nSamsung Galaxy S23+ 8/512GB                             0.962162   \nApple iPhone 13 512GB                                   0.527027   \nNubia Redmagic 8 Pro 5G 16/512GB                        1.000000   \nApple iPhone 13 Mini 512GB                              0.527027   \nSony Xperia 5 IV                                        0.513514   \n\n                                      Samsung Galaxy S23+ 8/512GB   \nApple iPhone 14 Pro 1TB                                  0.540541  \\\nSamsung Galaxy S23 Ultra 12/1TB                          0.729730   \nApple iPhone 14 Pro 256GB                                0.324324   \nApple iPhone 14 Plus 512GB                               0.608108   \nASUS ROG Phone 7 Ultimate 16/512GB                       0.648649   \nSony Xperia 1 V 12/256GB OLED 120Hz                      0.614865   \nApple iPhone 14 512GB                                    0.520270   \nHuawei Mate 50 Pro 8/512GB                               0.831081   \nSamsung Galaxy S23+ 8/512GB                              1.000000   \nApple iPhone 13 512GB                                    0.527027   \nNubia Redmagic 8 Pro 5G 16/512GB                         1.000000   \nApple iPhone 13 Mini 512GB                               0.527027   \nSony Xperia 5 IV                                         0.513514   \n\n                                      Apple iPhone 13 512GB   \nApple iPhone 14 Pro 1TB                            0.729730  \\\nSamsung Galaxy S23 Ultra 12/1TB                    0.729730   \nApple iPhone 14 Pro 256GB                          0.513514   \nApple iPhone 14 Plus 512GB                         0.729730   \nASUS ROG Phone 7 Ultimate 16/512GB                 0.729730   \nSony Xperia 1 V 12/256GB OLED 120Hz                0.581081   \nApple iPhone 14 512GB                              0.797297   \nHuawei Mate 50 Pro 8/512GB                         0.797297   \nSamsung Galaxy S23+ 8/512GB                        1.000000   \nApple iPhone 13 512GB                              1.000000   \nNubia Redmagic 8 Pro 5G 16/512GB                   1.000000   \nApple iPhone 13 Mini 512GB                         0.810811   \nSony Xperia 5 IV                                   0.783784   \n\n                                      Nubia Redmagic 8 Pro 5G 16/512GB   \nApple iPhone 14 Pro 1TB                                       0.378378  \\\nSamsung Galaxy S23 Ultra 12/1TB                               0.567568   \nApple iPhone 14 Pro 256GB                                     0.162162   \nApple iPhone 14 Plus 512GB                                    0.445946   \nASUS ROG Phone 7 Ultimate 16/512GB                            0.648649   \nSony Xperia 1 V 12/256GB OLED 120Hz                           0.162162   \nApple iPhone 14 512GB                                         0.256757   \nHuawei Mate 50 Pro 8/512GB                                    0.567568   \nSamsung Galaxy S23+ 8/512GB                                   0.641892   \nApple iPhone 13 512GB                                         0.459459   \nNubia Redmagic 8 Pro 5G 16/512GB                              1.000000   \nApple iPhone 13 Mini 512GB                                    0.527027   \nSony Xperia 5 IV                                              0.351351   \n\n                                      Apple iPhone 13 Mini 512GB   \nApple iPhone 14 Pro 1TB                                 0.729730  \\\nSamsung Galaxy S23 Ultra 12/1TB                         0.729730   \nApple iPhone 14 Pro 256GB                               0.513514   \nApple iPhone 14 Plus 512GB                              0.729730   \nASUS ROG Phone 7 Ultimate 16/512GB                      0.729730   \nSony Xperia 1 V 12/256GB OLED 120Hz                     0.513514   \nApple iPhone 14 512GB                                   0.729730   \nHuawei Mate 50 Pro 8/512GB                              0.729730   \nSamsung Galaxy S23+ 8/512GB                             0.797297   \nApple iPhone 13 512GB                                   0.831081   \nNubia Redmagic 8 Pro 5G 16/512GB                        0.966216   \nApple iPhone 13 Mini 512GB                              1.000000   \nSony Xperia 5 IV                                        0.783784   \n\n                                      Sony Xperia 5 IV  \nApple iPhone 14 Pro 1TB                       0.729730  \nSamsung Galaxy S23 Ultra 12/1TB               0.729730  \nApple iPhone 14 Pro 256GB                     0.729730  \nApple iPhone 14 Plus 512GB                    0.689189  \nASUS ROG Phone 7 Ultimate 16/512GB            0.729730  \nSony Xperia 1 V 12/256GB OLED 120Hz           0.729730  \nApple iPhone 14 512GB                         0.689189  \nHuawei Mate 50 Pro 8/512GB                    0.729730  \nSamsung Galaxy S23+ 8/512GB                   0.763514  \nApple iPhone 13 512GB                         0.594595  \nNubia Redmagic 8 Pro 5G 16/512GB              0.932432  \nApple iPhone 13 Mini 512GB                    0.608108  \nSony Xperia 5 IV                              1.000000  ",
      "text/html": "<div>\n<style scoped>\n    .dataframe tbody tr th:only-of-type {\n        vertical-align: middle;\n    }\n\n    .dataframe tbody tr th {\n        vertical-align: top;\n    }\n\n    .dataframe thead th {\n        text-align: right;\n    }\n</style>\n<table border=\"1\" class=\"dataframe\">\n  <thead>\n    <tr style=\"text-align: right;\">\n      <th></th>\n      <th>Apple iPhone 14 Pro 1TB</th>\n      <th>Samsung Galaxy S23 Ultra 12/1TB</th>\n      <th>Apple iPhone 14 Pro 256GB</th>\n      <th>Apple iPhone 14 Plus 512GB</th>\n      <th>ASUS ROG Phone 7 Ultimate 16/512GB</th>\n      <th>Sony Xperia 1 V 12/256GB OLED 120Hz</th>\n      <th>Apple iPhone 14 512GB</th>\n      <th>Huawei Mate 50 Pro 8/512GB</th>\n      <th>Samsung Galaxy S23+ 8/512GB</th>\n      <th>Apple iPhone 13 512GB</th>\n      <th>Nubia Redmagic 8 Pro 5G 16/512GB</th>\n      <th>Apple iPhone 13 Mini 512GB</th>\n      <th>Sony Xperia 5 IV</th>\n    </tr>\n  </thead>\n  <tbody>\n    <tr>\n      <th>Apple iPhone 14 Pro 1TB</th>\n      <td>1.000000</td>\n      <td>0.567568</td>\n      <td>0.729730</td>\n      <td>0.540541</td>\n      <td>0.378378</td>\n      <td>0.378378</td>\n      <td>0.729730</td>\n      <td>0.540541</td>\n      <td>0.540541</td>\n      <td>0.729730</td>\n      <td>0.378378</td>\n      <td>0.729730</td>\n      <td>0.729730</td>\n    </tr>\n    <tr>\n      <th>Samsung Galaxy S23 Ultra 12/1TB</th>\n      <td>1.000000</td>\n      <td>1.000000</td>\n      <td>0.729730</td>\n      <td>0.729730</td>\n      <td>0.567568</td>\n      <td>0.729730</td>\n      <td>0.729730</td>\n      <td>0.729730</td>\n      <td>0.729730</td>\n      <td>0.729730</td>\n      <td>0.567568</td>\n      <td>0.729730</td>\n      <td>0.729730</td>\n    </tr>\n    <tr>\n      <th>Apple iPhone 14 Pro 256GB</th>\n      <td>0.783784</td>\n      <td>0.351351</td>\n      <td>1.000000</td>\n      <td>0.594595</td>\n      <td>0.432432</td>\n      <td>0.564189</td>\n      <td>0.699324</td>\n      <td>0.510135</td>\n      <td>0.324324</td>\n      <td>0.513514</td>\n      <td>0.162162</td>\n      <td>0.513514</td>\n      <td>0.729730</td>\n    </tr>\n    <tr>\n      <th>Apple iPhone 14 Plus 512GB</th>\n      <td>0.662162</td>\n      <td>0.500000</td>\n      <td>0.878378</td>\n      <td>1.000000</td>\n      <td>0.756757</td>\n      <td>0.648649</td>\n      <td>0.932432</td>\n      <td>0.810811</td>\n      <td>0.608108</td>\n      <td>0.729730</td>\n      <td>0.445946</td>\n      <td>0.729730</td>\n      <td>0.689189</td>\n    </tr>\n    <tr>\n      <th>ASUS ROG Phone 7 Ultimate 16/512GB</th>\n      <td>0.702703</td>\n      <td>0.702703</td>\n      <td>0.918919</td>\n      <td>1.000000</td>\n      <td>1.000000</td>\n      <td>0.885135</td>\n      <td>0.966216</td>\n      <td>0.885135</td>\n      <td>0.648649</td>\n      <td>0.729730</td>\n      <td>0.648649</td>\n      <td>0.729730</td>\n      <td>0.729730</td>\n    </tr>\n    <tr>\n      <th>Sony Xperia 1 V 12/256GB OLED 120Hz</th>\n      <td>0.783784</td>\n      <td>0.513514</td>\n      <td>1.000000</td>\n      <td>0.689189</td>\n      <td>0.451351</td>\n      <td>1.000000</td>\n      <td>0.783784</td>\n      <td>0.651351</td>\n      <td>0.614865</td>\n      <td>0.581081</td>\n      <td>0.162162</td>\n      <td>0.513514</td>\n      <td>0.729730</td>\n    </tr>\n    <tr>\n      <th>Apple iPhone 14 512GB</th>\n      <td>0.662162</td>\n      <td>0.310811</td>\n      <td>0.878378</td>\n      <td>0.810811</td>\n      <td>0.567568</td>\n      <td>0.527027</td>\n      <td>1.000000</td>\n      <td>0.689189</td>\n      <td>0.520270</td>\n      <td>0.797297</td>\n      <td>0.256757</td>\n      <td>0.729730</td>\n      <td>0.689189</td>\n    </tr>\n    <tr>\n      <th>Huawei Mate 50 Pro 8/512GB</th>\n      <td>0.783784</td>\n      <td>0.540541</td>\n      <td>1.000000</td>\n      <td>1.000000</td>\n      <td>0.837838</td>\n      <td>0.837838</td>\n      <td>1.000000</td>\n      <td>1.000000</td>\n      <td>0.831081</td>\n      <td>0.797297</td>\n      <td>0.567568</td>\n      <td>0.729730</td>\n      <td>0.729730</td>\n    </tr>\n    <tr>\n      <th>Samsung Galaxy S23+ 8/512GB</th>\n      <td>0.783784</td>\n      <td>0.445946</td>\n      <td>1.000000</td>\n      <td>1.000000</td>\n      <td>0.762162</td>\n      <td>0.837838</td>\n      <td>1.000000</td>\n      <td>0.962162</td>\n      <td>1.000000</td>\n      <td>1.000000</td>\n      <td>0.641892</td>\n      <td>0.797297</td>\n      <td>0.763514</td>\n    </tr>\n    <tr>\n      <th>Apple iPhone 13 512GB</th>\n      <td>0.662162</td>\n      <td>0.310811</td>\n      <td>0.878378</td>\n      <td>0.810811</td>\n      <td>0.567568</td>\n      <td>0.527027</td>\n      <td>1.000000</td>\n      <td>0.527027</td>\n      <td>0.527027</td>\n      <td>1.000000</td>\n      <td>0.459459</td>\n      <td>0.831081</td>\n      <td>0.594595</td>\n    </tr>\n    <tr>\n      <th>Nubia Redmagic 8 Pro 5G 16/512GB</th>\n      <td>0.783784</td>\n      <td>0.702703</td>\n      <td>1.000000</td>\n      <td>1.000000</td>\n      <td>1.000000</td>\n      <td>1.000000</td>\n      <td>1.000000</td>\n      <td>1.000000</td>\n      <td>1.000000</td>\n      <td>1.000000</td>\n      <td>1.000000</td>\n      <td>0.966216</td>\n      <td>0.932432</td>\n    </tr>\n    <tr>\n      <th>Apple iPhone 13 Mini 512GB</th>\n      <td>0.472973</td>\n      <td>0.310811</td>\n      <td>0.689189</td>\n      <td>0.810811</td>\n      <td>0.567568</td>\n      <td>0.527027</td>\n      <td>0.810811</td>\n      <td>0.527027</td>\n      <td>0.527027</td>\n      <td>0.810811</td>\n      <td>0.527027</td>\n      <td>1.000000</td>\n      <td>0.608108</td>\n    </tr>\n    <tr>\n      <th>Sony Xperia 5 IV</th>\n      <td>0.702703</td>\n      <td>0.351351</td>\n      <td>0.918919</td>\n      <td>0.594595</td>\n      <td>0.432432</td>\n      <td>0.567568</td>\n      <td>0.783784</td>\n      <td>0.513514</td>\n      <td>0.513514</td>\n      <td>0.783784</td>\n      <td>0.351351</td>\n      <td>0.783784</td>\n      <td>1.000000</td>\n    </tr>\n  </tbody>\n</table>\n</div>"
     },
     "execution_count": 15,
     "metadata": {},
     "output_type": "execute_result"
    }
   ],
   "source": [
    "C"
   ],
   "metadata": {
    "collapsed": false
   }
  },
  {
   "cell_type": "markdown",
   "source": [
    "### Test zgodności"
   ],
   "metadata": {
    "collapsed": false
   }
  },
  {
   "cell_type": "code",
   "execution_count": 16,
   "outputs": [
    {
     "data": {
      "text/plain": "True"
     },
     "execution_count": 16,
     "metadata": {},
     "output_type": "execute_result"
    }
   ],
   "source": [
    "(C <= 1).all(axis=None) and (C >= 0).all(axis=None)"
   ],
   "metadata": {
    "collapsed": false
   }
  }
 ],
 "metadata": {
  "kernelspec": {
   "display_name": "Python 3",
   "language": "python",
   "name": "python3"
  },
  "language_info": {
   "codemirror_mode": {
    "name": "ipython",
    "version": 2
   },
   "file_extension": ".py",
   "mimetype": "text/x-python",
   "name": "python",
   "nbconvert_exporter": "python",
   "pygments_lexer": "ipython2",
   "version": "2.7.6"
  }
 },
 "nbformat": 4,
 "nbformat_minor": 0
}
