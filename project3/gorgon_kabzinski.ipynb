{
 "cells": [
  {
   "cell_type": "markdown",
   "metadata": {},
   "source": [
    "# Projekt 3"
   ]
  },
  {
   "cell_type": "markdown",
   "metadata": {},
   "source": [
    "Adam Gorgoń 145278\n",
    "Jan Kabziński 145220"
   ]
  },
  {
   "cell_type": "markdown",
   "metadata": {},
   "source": [
    "## Biblioteki"
   ]
  },
  {
   "cell_type": "code",
   "execution_count": 112,
   "metadata": {},
   "outputs": [],
   "source": [
    "import pandas as pd\n",
    "import numpy as np\n",
    "import shap as shap\n",
    "from tqdm import tqdm\n",
    "import graphviz\n",
    "import seaborn as sns\n",
    "from sklearn.model_selection import train_test_split\n",
    "from sklearn.metrics import accuracy_score, f1_score, roc_auc_score\n",
    "from sklearn.tree import DecisionTreeClassifier, export_text\n",
    "from sklearn.inspection import permutation_importance\n",
    "\n",
    "from xgboost import XGBClassifier, plot_tree\n",
    "\n",
    "import torch\n",
    "import torch.nn as nn\n",
    "import torch.nn.functional as F\n",
    "import torch.optim as optim\n",
    "from torch.utils.data import DataLoader, Dataset, TensorDataset"
   ]
  },
  {
   "cell_type": "markdown",
   "metadata": {},
   "source": [
    "## Wczytanie danych"
   ]
  },
  {
   "cell_type": "markdown",
   "metadata": {},
   "source": [
    "Będziemy używać danych do wykrycia raka piersi."
   ]
  },
  {
   "cell_type": "code",
   "execution_count": 16,
   "metadata": {},
   "outputs": [],
   "source": [
    "data = np.genfromtxt ('monodata/breast cancer.csv', delimiter=\",\")"
   ]
  },
  {
   "cell_type": "code",
   "execution_count": 17,
   "metadata": {},
   "outputs": [
    {
     "data": {
      "text/html": [
       "<div>\n",
       "<style scoped>\n",
       "    .dataframe tbody tr th:only-of-type {\n",
       "        vertical-align: middle;\n",
       "    }\n",
       "\n",
       "    .dataframe tbody tr th {\n",
       "        vertical-align: top;\n",
       "    }\n",
       "\n",
       "    .dataframe thead th {\n",
       "        text-align: right;\n",
       "    }\n",
       "</style>\n",
       "<table border=\"1\" class=\"dataframe\">\n",
       "  <thead>\n",
       "    <tr style=\"text-align: right;\">\n",
       "      <th></th>\n",
       "      <th>0</th>\n",
       "      <th>1</th>\n",
       "      <th>2</th>\n",
       "      <th>3</th>\n",
       "      <th>4</th>\n",
       "      <th>5</th>\n",
       "      <th>6</th>\n",
       "      <th>7</th>\n",
       "    </tr>\n",
       "  </thead>\n",
       "  <tbody>\n",
       "    <tr>\n",
       "      <th>count</th>\n",
       "      <td>278.000000</td>\n",
       "      <td>278.000000</td>\n",
       "      <td>278.000000</td>\n",
       "      <td>278.000000</td>\n",
       "      <td>278.000000</td>\n",
       "      <td>278.000000</td>\n",
       "      <td>278.000000</td>\n",
       "      <td>278.000000</td>\n",
       "    </tr>\n",
       "    <tr>\n",
       "      <th>mean</th>\n",
       "      <td>0.758993</td>\n",
       "      <td>0.689448</td>\n",
       "      <td>0.062500</td>\n",
       "      <td>0.201439</td>\n",
       "      <td>0.530576</td>\n",
       "      <td>0.474820</td>\n",
       "      <td>0.223022</td>\n",
       "      <td>1.294964</td>\n",
       "    </tr>\n",
       "    <tr>\n",
       "      <th>std</th>\n",
       "      <td>0.267712</td>\n",
       "      <td>0.252704</td>\n",
       "      <td>0.142006</td>\n",
       "      <td>0.401798</td>\n",
       "      <td>0.365429</td>\n",
       "      <td>0.500266</td>\n",
       "      <td>0.417023</td>\n",
       "      <td>0.456849</td>\n",
       "    </tr>\n",
       "    <tr>\n",
       "      <th>min</th>\n",
       "      <td>0.000000</td>\n",
       "      <td>0.000000</td>\n",
       "      <td>0.000000</td>\n",
       "      <td>0.000000</td>\n",
       "      <td>0.000000</td>\n",
       "      <td>0.000000</td>\n",
       "      <td>0.000000</td>\n",
       "      <td>1.000000</td>\n",
       "    </tr>\n",
       "    <tr>\n",
       "      <th>25%</th>\n",
       "      <td>0.500000</td>\n",
       "      <td>0.500000</td>\n",
       "      <td>0.000000</td>\n",
       "      <td>0.000000</td>\n",
       "      <td>0.500000</td>\n",
       "      <td>0.000000</td>\n",
       "      <td>0.000000</td>\n",
       "      <td>1.000000</td>\n",
       "    </tr>\n",
       "    <tr>\n",
       "      <th>50%</th>\n",
       "      <td>1.000000</td>\n",
       "      <td>0.666667</td>\n",
       "      <td>0.000000</td>\n",
       "      <td>0.000000</td>\n",
       "      <td>0.500000</td>\n",
       "      <td>0.000000</td>\n",
       "      <td>0.000000</td>\n",
       "      <td>1.000000</td>\n",
       "    </tr>\n",
       "    <tr>\n",
       "      <th>75%</th>\n",
       "      <td>1.000000</td>\n",
       "      <td>0.833333</td>\n",
       "      <td>0.000000</td>\n",
       "      <td>0.000000</td>\n",
       "      <td>1.000000</td>\n",
       "      <td>1.000000</td>\n",
       "      <td>0.000000</td>\n",
       "      <td>2.000000</td>\n",
       "    </tr>\n",
       "    <tr>\n",
       "      <th>max</th>\n",
       "      <td>1.000000</td>\n",
       "      <td>1.000000</td>\n",
       "      <td>1.000000</td>\n",
       "      <td>1.000000</td>\n",
       "      <td>1.000000</td>\n",
       "      <td>1.000000</td>\n",
       "      <td>1.000000</td>\n",
       "      <td>2.000000</td>\n",
       "    </tr>\n",
       "  </tbody>\n",
       "</table>\n",
       "</div>"
      ],
      "text/plain": [
       "                0           1           2           3           4           5   \n",
       "count  278.000000  278.000000  278.000000  278.000000  278.000000  278.000000  \\\n",
       "mean     0.758993    0.689448    0.062500    0.201439    0.530576    0.474820   \n",
       "std      0.267712    0.252704    0.142006    0.401798    0.365429    0.500266   \n",
       "min      0.000000    0.000000    0.000000    0.000000    0.000000    0.000000   \n",
       "25%      0.500000    0.500000    0.000000    0.000000    0.500000    0.000000   \n",
       "50%      1.000000    0.666667    0.000000    0.000000    0.500000    0.000000   \n",
       "75%      1.000000    0.833333    0.000000    0.000000    1.000000    1.000000   \n",
       "max      1.000000    1.000000    1.000000    1.000000    1.000000    1.000000   \n",
       "\n",
       "                6           7  \n",
       "count  278.000000  278.000000  \n",
       "mean     0.223022    1.294964  \n",
       "std      0.417023    0.456849  \n",
       "min      0.000000    1.000000  \n",
       "25%      0.000000    1.000000  \n",
       "50%      0.000000    1.000000  \n",
       "75%      0.000000    2.000000  \n",
       "max      1.000000    2.000000  "
      ]
     },
     "execution_count": 17,
     "metadata": {},
     "output_type": "execute_result"
    }
   ],
   "source": [
    "pd.DataFrame(data).describe()"
   ]
  },
  {
   "cell_type": "markdown",
   "metadata": {},
   "source": [
    "Wszystkie dane zostały wcześniej znormalizowane, więc są gotowe do włożenia ich do modeli. Dane spełniają wszystkie wymagania co do projektu: zawiera kilka kryteriów monotonicznych, ma ponad 100 alternatyw i 2 klasy (1 lub 2). Tabela posiada 278 rekordów, 6 wierszy z informacjami o pacjencie i jedną kolumnę z etykietą. Niestety kolumny nie mają opisu(po dłuższym szukaniu danych w internecie i w różnych pracach naukowych, nie znalazłem nic), dlatego później będę się do nich zwracał kolumna nr x lub kolumna etykiet. "
   ]
  },
  {
   "cell_type": "code",
   "execution_count": 18,
   "metadata": {},
   "outputs": [],
   "source": [
    "X, y = data[:, :6], data[:, 6]\n",
    "X_train, X_test, y_train, y_test = train_test_split(X, y, test_size=0.33)"
   ]
  },
  {
   "cell_type": "markdown",
   "metadata": {},
   "source": [
    "## Funkcje pomocnicze"
   ]
  },
  {
   "cell_type": "code",
   "execution_count": 42,
   "metadata": {},
   "outputs": [],
   "source": [
    "class NumpyDataset(Dataset):\n",
    "    def __init__(self, data, targets):\n",
    "        self.data = torch.Tensor(data)\n",
    "        self.targets = torch.LongTensor(targets.astype(int))\n",
    "\n",
    "    def __getitem__(self, index):\n",
    "        x = self.data[index]\n",
    "        y = self.targets[index]\n",
    "        return x, y\n",
    "\n",
    "    def __len__(self):\n",
    "        return len(self.data)\n",
    "\n",
    "def CreateDataLoader(X, y):\n",
    "    dataset = NumpyDataset(X, y)\n",
    "    return DataLoader(dataset, batch_size=len(dataset))\n",
    "\n",
    "def mobious_transform(row):\n",
    "    return list(row) + [\n",
    "        min(row[i], row[j]) for i in range(len(row)) for j in range(i + 1, len(row))\n",
    "    ]\n",
    "\n",
    "def Regret(x, target):\n",
    "    return torch.mean(\n",
    "        torch.relu(-(target >= 1).float() * x) + torch.relu((target < 1).float() * x)\n",
    "    )\n",
    "\n",
    "def Accuracy(x, target):\n",
    "    return (target == (x[:, 0] > 0) * 1).detach().numpy().mean()\n",
    "\n",
    "def AUC(x, target):\n",
    "    return roc_auc_score(target.detach().numpy(), x.detach().numpy()[:, 0])\n",
    "\n",
    "def F1(x, target, threshold=0.5):\n",
    "    x_numpy = x.detach().numpy()\n",
    "    target_numpy = target.detach().numpy()\n",
    "    predictions_binary = (x_numpy >= threshold).astype(int)\n",
    "    target_binary = (target_numpy >= threshold).astype(int)\n",
    "    f1 = f1_score(target_binary, predictions_binary)\n",
    "    return f1\n",
    "\n",
    "\n",
    "def Train(model, train_dataloader, test_dataloader, path, lr=0.01, epoch_nr=200):\n",
    "    optimizer = optim.AdamW(model.parameters(), lr=lr, betas=(0.9, 0.99))\n",
    "    best_acc = 0.0\n",
    "    best_auc = 0.0\n",
    "    for epoch in tqdm(range(epoch_nr)):\n",
    "        for _, data in enumerate(train_dataloader, 0):\n",
    "            inputs, labels = data\n",
    "            optimizer.zero_grad()\n",
    "            outputs = model(inputs)\n",
    "            loss = Regret(outputs, labels)\n",
    "            loss.backward()\n",
    "            optimizer.step()\n",
    "            acc = Accuracy(outputs, labels)\n",
    "            auc = AUC(outputs, labels)\n",
    "            f1 = F1(outputs, labels)\n",
    "\n",
    "        if acc > best_acc:\n",
    "            best_acc = acc\n",
    "            best_auc = auc\n",
    "            best_f1 = f1\n",
    "            with torch.no_grad():\n",
    "                for i, data in enumerate(test_dataloader, 0):\n",
    "                    inputs, labels = data\n",
    "                    outputs = model(inputs)\n",
    "                    loss_test = Regret(outputs, labels)\n",
    "                    acc_test = Accuracy(outputs, labels)\n",
    "                    auc_test = AUC(outputs, labels)\n",
    "                    f1_test = F1(outputs, labels)\n",
    "\n",
    "            torch.save(\n",
    "                {\n",
    "                    \"epoch\": epoch,\n",
    "                    \"model_state_dict\": model.state_dict(),\n",
    "                    \"optimizer_state_dict\": optimizer.state_dict(),\n",
    "                    \"loss_train\": loss,\n",
    "                    \"loss_test\": loss_test,\n",
    "                    \"accuracy_train\": acc,\n",
    "                    \"accuracy_test\": acc_test,\n",
    "                    \"auc_train\": auc,\n",
    "                    \"auc_test\": auc_test,\n",
    "                    \"f1_train\": f1,\n",
    "                    \"f1_test\": f1_test,\n",
    "                },\n",
    "                path,\n",
    "            )\n",
    "\n",
    "    return best_acc, acc_test, best_auc, auc_test, best_f1, f1_test"
   ]
  },
  {
   "cell_type": "markdown",
   "metadata": {},
   "source": [
    "## Modele"
   ]
  },
  {
   "cell_type": "markdown",
   "metadata": {},
   "source": [
    "Do experymentów wykorzystamy 3 modele."
   ]
  },
  {
   "cell_type": "markdown",
   "metadata": {},
   "source": [
    "### XGBoost"
   ]
  },
  {
   "cell_type": "code",
   "execution_count": 20,
   "metadata": {},
   "outputs": [],
   "source": [
    "xgb_model = XGBClassifier()"
   ]
  },
  {
   "cell_type": "markdown",
   "metadata": {},
   "source": [
    "### ANN-Ch-Constr."
   ]
  },
  {
   "cell_type": "code",
   "execution_count": 21,
   "metadata": {},
   "outputs": [],
   "source": [
    "class LinearGreaterThanZero(nn.Linear):\n",
    "    def __init__(self, in_features, bias=False, min_w=0.0000001):\n",
    "        super().__init__(in_features, 1, bias)\n",
    "        self.is_bias = bias\n",
    "        self.min_w = min_w\n",
    "        if bias:\n",
    "            nn.init.uniform_(self.bias, self.min_w, 1.0)\n",
    "        else:\n",
    "            self.bias = None\n",
    "\n",
    "    def reset_parameters(self):\n",
    "        nn.init.uniform_(self.weight, 0.1, 1.0)\n",
    "\n",
    "    def w(self):\n",
    "        with torch.no_grad():\n",
    "            self.weight.data[self.weight.data < 0] = self.min_w\n",
    "        return self.weight\n",
    "\n",
    "    def forward(self, input):\n",
    "        return F.linear(input, self.w(), self.bias)\n",
    "    \n",
    "class LinearInteraction(nn.Linear):\n",
    "    def __init__(self, in_features, criterion_layer):\n",
    "        super().__init__(((in_features - 1) * in_features) // 2, 1, False)\n",
    "        self.in_features = in_features\n",
    "        self.criterion_layer = criterion_layer\n",
    "\n",
    "    def reset_parameters(self):\n",
    "        nn.init.normal_(self.weight, 0.0, 0.1)\n",
    "\n",
    "    def w(self):\n",
    "        with torch.no_grad():\n",
    "            w_i = 0\n",
    "            w = self.criterion_layer.w()\n",
    "            for i in range(self.in_features):\n",
    "                for j in range(i + 1, self.in_features):\n",
    "                    self.weight.data[:, w_i] = torch.max(\n",
    "                        self.weight.data[:, w_i], -w[:, i]\n",
    "                    )\n",
    "                    self.weight.data[:, w_i] = torch.max(\n",
    "                        self.weight.data[:, w_i], -w[:, j]\n",
    "                    )\n",
    "                    w_i += 1\n",
    "        return self.weight\n",
    "\n",
    "    def forward(self, input):\n",
    "        return F.linear(input, self.w(), None)\n",
    "    \n",
    "class ThresholdLayer(nn.Module):\n",
    "    def __init__(self, threshold=None, requires_grad=True):\n",
    "        super().__init__()\n",
    "        if threshold is None:\n",
    "            self.threshold = nn.Parameter(\n",
    "                torch.FloatTensor(1).uniform_(0.1, 0.5), requires_grad=requires_grad\n",
    "            )\n",
    "        else:\n",
    "            self.threshold = nn.Parameter(\n",
    "                torch.FloatTensor([threshold]), requires_grad=requires_grad\n",
    "            )\n",
    "\n",
    "    def forward(self, x):\n",
    "        return x - self.threshold\n",
    "\n",
    "class ChoquetConstrained(nn.Module):\n",
    "    def __init__(self, criteria_nr, **kwargs):\n",
    "        super().__init__()\n",
    "        self.criteria_nr = criteria_nr\n",
    "        self.criteria_layer = LinearGreaterThanZero(criteria_nr)\n",
    "        self.interaction_layer = LinearInteraction(criteria_nr, self.criteria_layer)\n",
    "        self.thresholdLayer = ThresholdLayer()\n",
    "\n",
    "    def forward(self, x):\n",
    "        if len(x.shape) == 3:\n",
    "            x = x[:, 0, :]\n",
    "        x_wi = self.criteria_layer(x[:, : self.criteria_nr])\n",
    "        x_wij = self.interaction_layer(x[:, self.criteria_nr :])\n",
    "        weight_sum = self.criteria_layer.w().sum() + self.interaction_layer.w().sum()\n",
    "        score = (x_wi + x_wij) / (weight_sum)\n",
    "        return self.thresholdLayer(score)\n",
    "    \n",
    "cc_model = ChoquetConstrained(criteria_nr=6)"
   ]
  },
  {
   "cell_type": "markdown",
   "metadata": {},
   "source": [
    "### Głęboka sieć neuronowa"
   ]
  },
  {
   "cell_type": "code",
   "execution_count": 29,
   "metadata": {},
   "outputs": [],
   "source": [
    "class NeuralNetwork(nn.Module):\n",
    "    def __init__(self):\n",
    "        super(NeuralNetwork, self).__init__()\n",
    "        self.fc1 = nn.Linear(6, 64)\n",
    "        self.fc2 = nn.Linear(64, 128)\n",
    "        self.fc3 = nn.Linear(128, 64)\n",
    "        self.fc4 = nn.Linear(64, 32)\n",
    "        self.fc5 = nn.Linear(32, 2)\n",
    "\n",
    "    def forward(self, x):\n",
    "        x = torch.relu(self.fc1(x))\n",
    "        x = torch.relu(self.fc2(x))\n",
    "        x = torch.relu(self.fc3(x))\n",
    "        x = torch.relu(self.fc4(x))\n",
    "        x = self.fc5(x)\n",
    "        return x\n",
    "\n",
    "nn_model = NeuralNetwork()\n",
    "criterion = nn.CrossEntropyLoss()\n",
    "optimizer = optim.Adam(nn_model.parameters(), lr=0.001)"
   ]
  },
  {
   "cell_type": "markdown",
   "metadata": {},
   "source": [
    "## Trening i sprawdzenie parametrów"
   ]
  },
  {
   "cell_type": "markdown",
   "metadata": {},
   "source": [
    "Po treningu, każdy model zostanie sprawdzony przez 3 miary jakości: Accuracy, F1 oraz AUC"
   ]
  },
  {
   "cell_type": "markdown",
   "metadata": {},
   "source": [
    "### XGBoost"
   ]
  },
  {
   "cell_type": "markdown",
   "metadata": {},
   "source": [
    "#### Trening"
   ]
  },
  {
   "cell_type": "code",
   "execution_count": 30,
   "metadata": {},
   "outputs": [],
   "source": [
    "xgb_model.fit(X_train, y_train)\n",
    "y_pred = xgb_model.predict(X_test)"
   ]
  },
  {
   "cell_type": "markdown",
   "metadata": {},
   "source": [
    "#### Miary"
   ]
  },
  {
   "cell_type": "code",
   "execution_count": 31,
   "metadata": {},
   "outputs": [
    {
     "name": "stdout",
     "output_type": "stream",
     "text": [
      "F1 Score: 0.4\n",
      "AUC: 0.870594384707288\n",
      "Accuracy: 0.7717391304347826\n"
     ]
    }
   ],
   "source": [
    "print(\"F1 Score:\", round(f1_scorround(e(y_test, y_pred),4)), 4)\n",
    "print(\"AUC:\", round(roc_auc_score(y, xgb_model.predict_proba(X)[:,1])), 4)\n",
    "print(\"Accuracy:\", round(accuracy_score(y_test, y_pred)), 4)"
   ]
  },
  {
   "cell_type": "markdown",
   "metadata": {},
   "source": [
    "### ANN-Ch-Constr."
   ]
  },
  {
   "cell_type": "markdown",
   "metadata": {},
   "source": [
    "#### Trening"
   ]
  },
  {
   "cell_type": "code",
   "execution_count": 32,
   "metadata": {},
   "outputs": [],
   "source": [
    "data_input = np.apply_along_axis(lambda x: mobious_transform(x), axis=1, arr=X)\n",
    "ann_X_train, ann_X_test, ann_y_train, ann_y_test = train_test_split(data_input, y, test_size=0.2, random_state=1234)\n",
    "ann_train_dataloader = CreateDataLoader(ann_X_train, ann_y_train)\n",
    "ann_test_dataloader = CreateDataLoader(ann_X_test, ann_y_test)\n",
    "acc, acc_test, auc, auc_test, f1, f1_test = Train(cc_model, ann_train_dataloader, ann_test_dataloader, \"choquet.pt\")"
   ]
  },
  {
   "cell_type": "markdown",
   "metadata": {},
   "source": [
    "#### Metryki"
   ]
  },
  {
   "cell_type": "code",
   "execution_count": 35,
   "metadata": {},
   "outputs": [
    {
     "name": "stdout",
     "output_type": "stream",
     "text": [
      "F1 Score: 0.0\n",
      "AUC: 0.5863221884498481\n",
      "Accuracy: 0.7837837837837838\n"
     ]
    }
   ],
   "source": [
    "print(\"F1 Score:\", round(f1), 4)\n",
    "print(\"AUC:\", round(auc), 4)\n",
    "print(\"Accuracy:\", round(acc), 4)"
   ]
  },
  {
   "cell_type": "markdown",
   "metadata": {},
   "source": [
    "### Głęboka sieć neuronowa"
   ]
  },
  {
   "cell_type": "markdown",
   "metadata": {},
   "source": [
    "#### Trening"
   ]
  },
  {
   "cell_type": "code",
   "execution_count": 36,
   "metadata": {},
   "outputs": [],
   "source": [
    "X_tensor = torch.tensor(X, dtype=torch.float32)\n",
    "y_tensor = torch.tensor(y, dtype=torch.long)\n",
    "\n",
    "dataset = TensorDataset(X_tensor, y_tensor)\n",
    "data_loader = DataLoader(dataset, batch_size=32, shuffle=True)\n",
    "\n",
    "for epoch in range(10):\n",
    "    for batch_X, batch_y in data_loader:\n",
    "        optimizer.zero_grad()\n",
    "        output = nn_model(batch_X)\n",
    "        loss = criterion(output, batch_y)\n",
    "        loss.backward()\n",
    "        optimizer.step()\n",
    "nn_model.eval()\n",
    "with torch.no_grad():\n",
    "    test_output = nn_model(X_tensor)\n",
    "    predicted_labels = torch.argmax(test_output, dim=1)\n",
    "predicted_labels = predicted_labels.numpy()\n",
    "y_true = y_tensor.numpy()"
   ]
  },
  {
   "cell_type": "markdown",
   "metadata": {},
   "source": [
    "#### Metryki"
   ]
  },
  {
   "cell_type": "code",
   "execution_count": 37,
   "metadata": {},
   "outputs": [
    {
     "name": "stdout",
     "output_type": "stream",
     "text": [
      "F1 Score: 0.0\n",
      "AUC: 0.5\n",
      "Accuracy: 0.7769784172661871\n"
     ]
    }
   ],
   "source": [
    "f1 = f1_score(y_true, predicted_labels)\n",
    "auc = roc_auc_score(y_true, predicted_labels)\n",
    "accuracy = accuracy_score(y_true, predicted_labels)\n",
    "\n",
    "print(\"F1 Score:\", round(f1), 4)\n",
    "print(\"AUC:\", round(auc), 4)\n",
    "print(\"Accuracy:\", round(accuracy), 4)"
   ]
  },
  {
   "cell_type": "markdown",
   "metadata": {},
   "source": [
    "## Wizualizacje"
   ]
  },
  {
   "cell_type": "markdown",
   "metadata": {},
   "source": [
    "### XGBoost"
   ]
  },
  {
   "cell_type": "code",
   "execution_count": 41,
   "metadata": {},
   "outputs": [
    {
     "data": {
      "text/plain": [
       "<Axes: >"
      ]
     },
     "execution_count": 41,
     "metadata": {},
     "output_type": "execute_result"
    },
    {
     "data": {
      "image/png": "[encoded data removed]",
      "text/plain": [
       "<Figure size 640x480 with 1 Axes>"
      ]
     },
     "metadata": {},
     "output_type": "display_data"
    }
   ],
   "source": [
    "plot_tree(xgb_model)"
   ]
  },
  {
   "cell_type": "markdown",
   "metadata": {},
   "source": [
    "### ANN-Ch-Constr."
   ]
  },
  {
   "cell_type": "code",
   "execution_count": 105,
   "metadata": {},
   "outputs": [],
   "source": [
    "weights = cc_model.criteria_layer.w().detach().numpy()[0]\n",
    "interaction_weights = cc_model.interaction_layer.w().detach().numpy()[0]\n",
    "s = weights.sum() + interaction_weights.sum()\n",
    "weights = weights / s\n",
    "interaction_weights = interaction_weights / s\n",
    "\n",
    "interactions = np.zeros((6, 6))\n",
    "weight_id = 0\n",
    "for i in range(6):\n",
    "    for j in range(i + 1, 6):\n",
    "        interactions[i, j] = interactions[j, i] = interaction_weights[weight_id]\n",
    "        weight_id += 1"
   ]
  },
  {
   "cell_type": "code",
   "execution_count": 110,
   "metadata": {},
   "outputs": [
    {
     "name": "stdout",
     "output_type": "stream",
     "text": [
      "Criteria weights: [1.8147473e-01 1.8268551e-01 7.0167559e-08 7.0167559e-08 7.0167559e-08\n",
      " 1.2841377e-01]\n",
      "Criteria interactions: [[ 0.00000000e+00 -1.79681554e-01 -7.01675589e-08 -7.01675589e-08\n",
      "  -7.01675589e-08 -1.19429946e-01]\n",
      " [-1.79681554e-01  0.00000000e+00 -7.01675589e-08 -7.01675589e-08\n",
      "  -7.01675589e-08 -6.94242865e-02]\n",
      " [-7.01675589e-08 -7.01675589e-08  0.00000000e+00  9.48023796e-03\n",
      "  -7.01675589e-08  8.66482019e-01]\n",
      " [-7.01675589e-08 -7.01675589e-08  9.48023796e-03  0.00000000e+00\n",
      "  -7.01675589e-08 -7.01675589e-08]\n",
      " [-7.01675589e-08 -7.01675589e-08 -7.01675589e-08 -7.01675589e-08\n",
      "   0.00000000e+00 -7.01675589e-08]\n",
      " [-1.19429946e-01 -6.94242865e-02  8.66482019e-01 -7.01675589e-08\n",
      "  -7.01675589e-08  0.00000000e+00]]\n",
      "Importance of criterina (Shapley value): [ 3.19188749e-02  5.81324836e-02  4.37981094e-01  4.74004881e-03\n",
      " -1.05251338e-07  4.67227590e-01]\n"
     ]
    }
   ],
   "source": [
    "print(\"Criteria weights:\", weights)\n",
    "print(\"Criteria interactions:\", interactions)\n",
    "print(\"Importance of criterina (Shapley value):\", weights + interactions.sum(0) / 2)"
   ]
  },
  {
   "cell_type": "code",
   "execution_count": 114,
   "metadata": {},
   "outputs": [
    {
     "data": {
      "text/plain": [
       "<Axes: >"
      ]
     },
     "execution_count": 114,
     "metadata": {},
     "output_type": "execute_result"
    },
    {
     "data": {
      "image/png": "[encoded data removed]",
      "text/plain": [
       "<Figure size 640x480 with 2 Axes>"
      ]
     },
     "metadata": {},
     "output_type": "display_data"
    }
   ],
   "source": [
    "sns.heatmap(interactions, annot=True)"
   ]
  },
  {
   "cell_type": "markdown",
   "metadata": {},
   "source": [
    "### Sieci"
   ]
  },
  {
   "cell_type": "code",
   "execution_count": 83,
   "metadata": {},
   "outputs": [
    {
     "data": {
      "image/png": "[encoded data removed]",
      "text/plain": [
       "<Figure size 800x390 with 1 Axes>"
      ]
     },
     "metadata": {},
     "output_type": "display_data"
    }
   ],
   "source": [
    "explainer = shap.DeepExplainer(nn_model, X_tensor)\n",
    "shap_values = explainer.shap_values(X_tensor)\n",
    "shap.summary_plot(shap_values, X_tensor, feature_names=[\"feature1\", \"feature2\", \"feature3\", \"feature4\", \"feature5\", \"feature6\"])"
   ]
  },
  {
   "cell_type": "markdown",
   "metadata": {},
   "source": [
    "## Interpretacja modeli"
   ]
  },
  {
   "cell_type": "markdown",
   "metadata": {},
   "source": [
    "- Czy na podstawie uzyskanych parametrów możemy powiedzieć coś o preferencjach użytkowników?\n",
    "\n",
    "Widać korelacje z kolumny nr 5 z kolumną kolumną nr 2\n",
    "- Czy są jakieś kryteria, które nie mają żadnego wpływu, czy też mają wpływ decydujący?\n",
    "\n",
    "Sieci uważają, że 3 ostatnie kolumny są mają większą wagę ale drzewo częście pyta o pierwsze 3 kolumny\n",
    "- Czy istnieją jakieś progi preferencji?\n",
    "\n",
    "Nie widzę żadnych skrajnie widocznych progów preferencji\n",
    "- Czy istnieją oceny kryteriów, które są nierozróżnialne z punktu widzenia preferencji?\n",
    "\n",
    "XGBoost nie korzysta w ogóle z kolumny 5(f4). ANN-Ch-Constr. również uważa 5 kolumną za nieważną"
   ]
  },
  {
   "cell_type": "markdown",
   "metadata": {},
   "source": [
    "## Interpretacja modeli za pomocą innych metod"
   ]
  },
  {
   "cell_type": "markdown",
   "metadata": {},
   "source": [
    "Zaproponowane metody działają tylko przy prostych metodach ML"
   ]
  },
  {
   "cell_type": "markdown",
   "metadata": {},
   "source": [
    "### XGBoost"
   ]
  },
  {
   "cell_type": "code",
   "execution_count": 97,
   "metadata": {
    "scrolled": true
   },
   "outputs": [
    {
     "data": {
      "text/plain": [
       "{'importances_mean': array([0.0557554 , 0.06582734, 0.10611511, 0.09316547, 0.06007194,\n",
       "        0.05035971]),\n",
       " 'importances_std': array([0.0108213 , 0.02009565, 0.01467785, 0.00762217, 0.01393624,\n",
       "        0.0082027 ]),\n",
       " 'importances': array([[0.05755396, 0.06834532, 0.06834532, 0.04316547, 0.05035971,\n",
       "         0.03597122, 0.06834532, 0.06115108, 0.05755396, 0.04676259],\n",
       "        [0.0323741 , 0.04316547, 0.08992806, 0.07553957, 0.05755396,\n",
       "         0.08633094, 0.08273381, 0.08633094, 0.06115108, 0.04316547],\n",
       "        [0.13309353, 0.11510791, 0.07553957, 0.10431655, 0.11870504,\n",
       "         0.09352518, 0.10791367, 0.10071942, 0.11151079, 0.10071942],\n",
       "        [0.09352518, 0.07913669, 0.0971223 , 0.0971223 , 0.07913669,\n",
       "         0.09352518, 0.09352518, 0.0971223 , 0.0971223 , 0.10431655],\n",
       "        [0.07913669, 0.0647482 , 0.07913669, 0.06834532, 0.05755396,\n",
       "         0.05035971, 0.03597122, 0.0647482 , 0.06115108, 0.03956835],\n",
       "        [0.04316547, 0.06115108, 0.05395683, 0.05755396, 0.05035971,\n",
       "         0.05755396, 0.03956835, 0.03597122, 0.05755396, 0.04676259]])}"
      ]
     },
     "execution_count": 97,
     "metadata": {},
     "output_type": "execute_result"
    }
   ],
   "source": [
    "permutation_importance(xgb_model, X, y, n_repeats=10)"
   ]
  },
  {
   "cell_type": "markdown",
   "metadata": {},
   "source": [
    "Zgadza się to, że 3 kolumna jest najważniejsza. Dziwi duże znaczenie kolumny piątej. Możliwe, że przez korelacje z kolumną 2 mogą się wymieniać w drzewie."
   ]
  },
  {
   "cell_type": "markdown",
   "metadata": {},
   "source": [
    "## Zmiania decyzji modelu dla wybranych wariantów"
   ]
  },
  {
   "cell_type": "code",
   "execution_count": 120,
   "metadata": {},
   "outputs": [
    {
     "data": {
      "text/plain": [
       "(array([[1.      , 0.833333, 0.      , 1.      , 1.      , 1.      ],\n",
       "        [0.      , 0.5     , 0.      , 0.      , 0.5     , 0.      ],\n",
       "        [0.5     , 0.833333, 0.      , 0.      , 1.      , 0.      ]]),\n",
       " array([1., 0., 1.]))"
      ]
     },
     "execution_count": 120,
     "metadata": {},
     "output_type": "execute_result"
    }
   ],
   "source": [
    "ids = [3,75,250]\n",
    "X[ids, :], y[ids]"
   ]
  },
  {
   "cell_type": "markdown",
   "metadata": {},
   "source": [
    "Przy pierwszy wariancie wystarczy zmienić drugą kolumnę z 0.833333 na  0.74.\n",
    "\n",
    "Przy drugim wariancie trzeba podwyższyć wartość trzeciej kolumny z 0 do 0.07\n",
    "\n",
    "Przy trzecim wariancie rzeba podwyższyć wartość pierwszej kolumny z 0.5 do 0.76"
   ]
  }
 ],
 "metadata": {
  "kernelspec": {
   "display_name": "Python 3 (ipykernel)",
   "language": "python",
   "name": "python3"
  },
  "language_info": {
   "codemirror_mode": {
    "name": "ipython",
    "version": 3
   },
   "file_extension": ".py",
   "mimetype": "text/x-python",
   "name": "python",
   "nbconvert_exporter": "python",
   "pygments_lexer": "ipython3",
   "version": "3.10.7"
  }
 },
 "nbformat": 4,
 "nbformat_minor": 1
}
